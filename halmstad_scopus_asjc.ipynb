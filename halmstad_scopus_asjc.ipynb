{
 "cells": [
  {
   "cell_type": "code",
   "execution_count": 1,
   "id": "4290a310",
   "metadata": {},
   "outputs": [
    {
     "name": "stdout",
     "output_type": "stream",
     "text": [
      "Requirement already satisfied: pybliometrics in c:\\users\\xkulll\\anaconda3\\envs\\python3\\lib\\site-packages (3.4.0)\n",
      "Requirement already satisfied: simplejson in c:\\users\\xkulll\\anaconda3\\envs\\python3\\lib\\site-packages (from pybliometrics) (3.17.6)\n",
      "Requirement already satisfied: tqdm in c:\\users\\xkulll\\anaconda3\\envs\\python3\\lib\\site-packages (from pybliometrics) (4.64.1)\n",
      "Requirement already satisfied: pbr in c:\\users\\xkulll\\anaconda3\\envs\\python3\\lib\\site-packages (from pybliometrics) (5.11.0)\n",
      "Requirement already satisfied: requests in c:\\users\\xkulll\\anaconda3\\envs\\python3\\lib\\site-packages (from pybliometrics) (2.28.1)\n",
      "Requirement already satisfied: urllib3<1.27,>=1.21.1 in c:\\users\\xkulll\\anaconda3\\envs\\python3\\lib\\site-packages (from requests->pybliometrics) (1.26.11)\n",
      "Requirement already satisfied: certifi>=2017.4.17 in c:\\users\\xkulll\\anaconda3\\envs\\python3\\lib\\site-packages (from requests->pybliometrics) (2022.9.24)\n",
      "Requirement already satisfied: charset-normalizer<3,>=2 in c:\\users\\xkulll\\anaconda3\\envs\\python3\\lib\\site-packages (from requests->pybliometrics) (2.0.4)\n",
      "Requirement already satisfied: idna<4,>=2.5 in c:\\users\\xkulll\\anaconda3\\envs\\python3\\lib\\site-packages (from requests->pybliometrics) (3.3)\n",
      "Requirement already satisfied: colorama in c:\\users\\xkulll\\anaconda3\\envs\\python3\\lib\\site-packages (from tqdm->pybliometrics) (0.4.5)\n"
     ]
    }
   ],
   "source": [
    "    !pip install pybliometrics"
   ]
  },
  {
   "cell_type": "code",
   "execution_count": 2,
   "id": "e32fc4c6",
   "metadata": {},
   "outputs": [],
   "source": [
    "# Importing the required libraries.\n",
    "import csv, re, pandas as pd, numpy as np\n",
    "from datetime import datetime\n",
    "from pybliometrics.scopus import config, AbstractRetrieval\n",
    "from pybliometrics.scopus.utils import create_config\n",
    "from pybliometrics.scopus.exception import Scopus404Error, Scopus429Error, Scopus500Error\n",
    "from urllib.error import HTTPError\n",
    "from urllib3.exceptions import ConnectionError, NewConnectionError"
   ]
  },
  {
   "cell_type": "code",
   "execution_count": 3,
   "id": "061f07a1",
   "metadata": {},
   "outputs": [],
   "source": [
    "# Setting the Scopus API Key.\n",
    "_keys = [\">>>f8c74df6ef01dd94ebd36c932a731461<<<\"]\n",
    "config[\"Authentication\"][\"APIKey\"] = _keys.pop()"
   ]
  },
  {
   "cell_type": "code",
   "execution_count": 16,
   "id": "93c8243d",
   "metadata": {},
   "outputs": [
    {
     "name": "stderr",
     "output_type": "stream",
     "text": [
      "C:\\Users\\xkulll\\AppData\\Local\\Temp\\ipykernel_21632\\1516394431.py:2: FutureWarning: The squeeze argument has been deprecated and will be removed in a future version. Append .squeeze(\"columns\") to the call to squeeze.\n",
      "\n",
      "\n",
      "  list_eids_documents = pd.read_csv(\"C:/Users/xkulll/Desktop/hh_filer/1401_part_eid.csv\", index_col=False, squeeze=True)\n"
     ]
    }
   ],
   "source": [
    "# Getting the list of manuscripts' EID.\n",
    "list_eids_documents = pd.read_csv(\"C:/Users/xkulll/Desktop/hh_filer/1401_part_eid.csv\", index_col=False, squeeze=True)"
   ]
  },
  {
   "cell_type": "code",
   "execution_count": 17,
   "id": "c2670c2b",
   "metadata": {},
   "outputs": [
    {
     "name": "stdout",
     "output_type": "stream",
     "text": [
      "Number of records: 23.\n"
     ]
    }
   ],
   "source": [
    "# Printing the number of records.\n",
    "print(\"Number of records: {}.\".format(list_eids_documents.size))"
   ]
  },
  {
   "cell_type": "code",
   "execution_count": 33,
   "id": "ec9f0a30",
   "metadata": {},
   "outputs": [],
   "source": [
    "# Function to collect manuscripts' data.\n",
    "def collect_data_manuscripts(list_eids_documents):\n",
    "    data = []\n",
    "    for key in list_eids_documents:\n",
    "        record = {}\n",
    "        error = True\n",
    "        while error:\n",
    "            try:\n",
    "                paper = AbstractRetrieval(key, id_type=\"eid\", view=\"FULL\", refresh=True)\n",
    "                error = False\n",
    "                # Basic Attributes.\n",
    "                record[\"id\"] = paper.identifier\n",
    "                record[\"doi\"] = paper.doi\n",
    "                record[\"eid\"] = paper.eid\n",
    "                record[\"title\"] = paper.title\n",
    "                record[\"description\"] = paper.description\n",
    "                record[\"publication_date\"] = datetime.strptime(paper.coverDate, \"%Y-%m-%d\").date() \\\n",
    "                                            if paper.coverDate else None\n",
    "                record[\"citation_num\"] = paper.citedby_count\n",
    "                record[\"language\"] = paper.language\n",
    "                record[\"production_type\"] = paper.aggregationType\n",
    "                record[\"source_type\"] = paper.srctype\n",
    "                record[\"auth_keywords\"] = tuple(paper.authkeywords) if paper.authkeywords else None\n",
    "                record[\"index_terms\"] = tuple(paper.idxterms) if paper.idxterms else None\n",
    "               \n",
    "\n",
    "                # Journals data.\n",
    "                record[\"source\"] = paper.publicationName\n",
    "                record[\"publisher\"] = paper.publisher\n",
    "\n",
    "                # Affiliation.\n",
    "                record[\"affiliations\"] = tuple(\n",
    "                    [{\"id\": affil.id if affil and affil.id else None,\n",
    "                      \"affiliation\": affil.name if affil and affil.name else None,\n",
    "                      \"country\": affil.country if affil and affil.country else None}\n",
    "                     for affil in paper.affiliation]) if paper.affiliation else None\n",
    "\n",
    "                # Subject Areas.\n",
    "                record[\"subject_areas\"] = tuple([area.area for area in paper.subject_areas]) \\\n",
    "                                        if paper.subject_areas else None\n",
    "                record[\"ajsc_codes\"] = tuple([code.code for code in paper.subject_areas]) \\\n",
    "                                        if paper.subject_areas else None\n",
    "             \n",
    "                # Authors.\n",
    "                record[\"authors\"] = tuple(\n",
    "                    [{\"id\": author.auid if author and author.auid else None,\n",
    "                      \"name\": \"{} {}\".format(author.given_name, author.surname) \\\n",
    "                                if author and author.given_name and author.surname else\n",
    "                            \"{}\".format(author.given_name) if author and author.given_name \\\n",
    "                                and not author.surname else \\\n",
    "                            \"{}\".format(author.surname) if author and author.surname \\\n",
    "                                and not author.given_name else None}\n",
    "                     for author in paper.authors]) if paper.authors else None\n",
    "\n",
    "                record[\"author_affil\"] = tuple(\n",
    "                    [{\"id\": author.auid if author and author.auid else None,\n",
    "                      \"name\": \"{} {}\".format(author.given_name, author.surname) \\\n",
    "                                if author and author.given_name and author.surname else \\\n",
    "                            \"{}\".format(author.given_name) if author and author.given_name \\\n",
    "                                and not author.surname else \\\n",
    "                            \"{}\".format(author.surname) if author and author.surname \\\n",
    "                                and not author.given_name else None,\n",
    "                      \"affil_id\": author.affiliation_id if author and author.affiliation_id else None,\n",
    "                      \"affiliation\": author.organization if author and author.organization else None,\n",
    "                      \"country\": author.country if author and author.country else None}\n",
    "                     for author in paper.authorgroup]) if paper.authorgroup else None\n",
    "               \n",
    "\n",
    "            except (Scopus404Error, Scopus500Error, HTTPError) as e:\n",
    "                record[\"id\"] = key\n",
    "                print(key)\n",
    "                error = False\n",
    "            except Scopus429Error as e:\n",
    "                # Removing the last item in _keys to assign it as new API key.\n",
    "                config[\"Authentication\"][\"APIKey\"] = _keys.pop()\n",
    "                if len(_keys) == 0:\n",
    "                    raise e\n",
    "            except (ConnectionError, NewConnectionError, Exception) as e:\n",
    "                record[\"id\"] = key\n",
    "                print(key)\n",
    "                error = False\n",
    "        data.append(record)\n",
    "    return data"
   ]
  },
  {
   "cell_type": "code",
   "execution_count": 34,
   "id": "585bd096",
   "metadata": {},
   "outputs": [],
   "source": [
    "# Collecting the data.\n",
    "data = collect_data_manuscripts(list_eids_documents)    "
   ]
  },
  {
   "cell_type": "code",
   "execution_count": 35,
   "id": "5744168c",
   "metadata": {},
   "outputs": [],
   "source": [
    "# Exporting the data to CSV file.\n",
    "pd.DataFrame(data).to_csv(\"C:/Users/xkulll/Desktop/hh_filer/scopus_part2_raw.csv\", index=False, quoting=csv.QUOTE_ALL)"
   ]
  },
  {
   "cell_type": "code",
   "execution_count": 13,
   "id": "c2cb6408",
   "metadata": {},
   "outputs": [],
   "source": []
  },
  {
   "cell_type": "code",
   "execution_count": null,
   "id": "4512a2c4",
   "metadata": {},
   "outputs": [],
   "source": []
  }
 ],
 "metadata": {
  "kernelspec": {
   "display_name": "Python 3 (ipykernel)",
   "language": "python",
   "name": "python3"
  },
  "language_info": {
   "codemirror_mode": {
    "name": "ipython",
    "version": 3
   },
   "file_extension": ".py",
   "mimetype": "text/x-python",
   "name": "python",
   "nbconvert_exporter": "python",
   "pygments_lexer": "ipython3",
   "version": "3.9.13"
  }
 },
 "nbformat": 4,
 "nbformat_minor": 5
}
